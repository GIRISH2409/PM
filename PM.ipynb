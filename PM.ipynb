{
  "nbformat": 4,
  "nbformat_minor": 0,
  "metadata": {
    "colab": {
      "name": "PM.ipynb",
      "provenance": [],
      "collapsed_sections": [],
      "authorship_tag": "ABX9TyPIPZuXB6teOU06/hM0MLSf",
      "include_colab_link": true
    },
    "kernelspec": {
      "name": "python3",
      "display_name": "Python 3"
    },
    "language_info": {
      "name": "python"
    }
  },
  "cells": [
    {
      "cell_type": "markdown",
      "metadata": {
        "id": "view-in-github",
        "colab_type": "text"
      },
      "source": [
        "<a href=\"https://colab.research.google.com/github/GIRISH2409/PM/blob/main/PM.ipynb\" target=\"_parent\"><img src=\"https://colab.research.google.com/assets/colab-badge.svg\" alt=\"Open In Colab\"/></a>"
      ]
    },
    {
      "cell_type": "code",
      "metadata": {
        "id": "WlYUH7L8665e"
      },
      "source": [
        "import numpy as np\n",
        "import pandas as pd\n"
      ],
      "execution_count": 1,
      "outputs": []
    },
    {
      "cell_type": "code",
      "metadata": {
        "id": "htzoCe5K7miA"
      },
      "source": [
        "label = pd.read_csv(\"/content/profile.txt\", sep='\\t', header=None)"
      ],
      "execution_count": 7,
      "outputs": []
    },
    {
      "cell_type": "code",
      "metadata": {
        "id": "k1nqMApN72Ek"
      },
      "source": [
        "label.columns = ['cooler','valve','pump','Accumulator','flag']"
      ],
      "execution_count": 8,
      "outputs": []
    },
    {
      "cell_type": "code",
      "metadata": {
        "id": "SxXe7GHx9Ziy"
      },
      "source": [
        "data = ['TS1.txt','TS2.txt','TS3.txt','TS4.txt']\n",
        "df = pd.DataFrame()"
      ],
      "execution_count": 9,
      "outputs": []
    },
    {
      "cell_type": "code",
      "metadata": {
        "id": "zbhYqJy69qVa"
      },
      "source": [
        "import os\n",
        "import random\n",
        "import itertools\n",
        "import numpy as np\n",
        "import pandas as pd\n",
        "import matplotlib.pyplot as plt\n",
        "\n",
        "from sklearn.manifold import TSNE\n",
        "from sklearn.preprocessing import StandardScaler\n",
        "from sklearn.model_selection import train_test_split\n",
        "from sklearn.metrics import accuracy_score, confusion_matrix, classification_report\n",
        "\n",
        "import tensorflow as tf\n",
        "from tensorflow.keras.models import *\n",
        "from tensorflow.keras.layers import *\n",
        "from tensorflow.keras.utils import *"
      ],
      "execution_count": 12,
      "outputs": []
    },
    {
      "cell_type": "code",
      "metadata": {
        "id": "_9D6PrD-_yhd"
      },
      "source": [
        "def plot_confusion_matrix(cm, classes, title='Confusion matrix', cmap=plt.cm.Blues):\n",
        "\n",
        "    cm = cm.astype('float') / cm.sum(axis=1)[:, np.newaxis]\n",
        "\n",
        "    plt.imshow(cm, interpolation='nearest', cmap=cmap)\n",
        "    plt.title(title, fontsize=25)\n",
        "    #plt.colorbar()\n",
        "    tick_marks = np.arange(len(classes))\n",
        "    plt.xticks(tick_marks, classes, rotation=90, fontsize=15)\n",
        "    plt.yticks(tick_marks, classes, fontsize=15)\n",
        "\n",
        "    fmt = '.2f'\n",
        "    thresh = cm.max() / 2.\n",
        "    for i, j in itertools.product(range(cm.shape[0]), range(cm.shape[1])):\n",
        "        plt.text(j, i, format(cm[i, j], fmt),\n",
        "                 horizontalalignment=\"center\",\n",
        "                 color=\"white\" if cm[i, j] > thresh else \"black\", fontsize = 14)\n",
        "\n",
        "    plt.ylabel('True label', fontsize=20)\n",
        "    plt.xlabel('Predicted label', fontsize=20)"
      ],
      "execution_count": 13,
      "outputs": []
    },
    {
      "cell_type": "code",
      "metadata": {
        "colab": {
          "base_uri": "https://localhost:8080/",
          "height": 240
        },
        "id": "3Y4GrvXt_4o8",
        "outputId": "61b59e85-bb16-4bef-f9d6-b2892e3a919c"
      },
      "source": [
        "label = pd.read_csv('profile.txt', sep='\\t', header=None)\n",
        "label.columns = ['Cooler','Valve','Pump','Accumulator','Flag']\n",
        "\n",
        "data = ['TS1.txt','TS2.txt','TS3.txt','TS4.txt']\n",
        "df = pd.DataFrame()\n",
        "\n",
        "for txt in data:\n",
        "    read_df = pd.read_csv(txt, sep='\\t', header=None)\n",
        "    df = df.append(read_df)    \n",
        "\n",
        "print(df.shape)\n",
        "df.head()"
      ],
      "execution_count": 14,
      "outputs": [
        {
          "output_type": "stream",
          "name": "stdout",
          "text": [
            "(8820, 60)\n"
          ]
        },
        {
          "output_type": "execute_result",
          "data": {
            "text/html": [
              "<div>\n",
              "<style scoped>\n",
              "    .dataframe tbody tr th:only-of-type {\n",
              "        vertical-align: middle;\n",
              "    }\n",
              "\n",
              "    .dataframe tbody tr th {\n",
              "        vertical-align: top;\n",
              "    }\n",
              "\n",
              "    .dataframe thead th {\n",
              "        text-align: right;\n",
              "    }\n",
              "</style>\n",
              "<table border=\"1\" class=\"dataframe\">\n",
              "  <thead>\n",
              "    <tr style=\"text-align: right;\">\n",
              "      <th></th>\n",
              "      <th>0</th>\n",
              "      <th>1</th>\n",
              "      <th>2</th>\n",
              "      <th>3</th>\n",
              "      <th>4</th>\n",
              "      <th>5</th>\n",
              "      <th>6</th>\n",
              "      <th>7</th>\n",
              "      <th>8</th>\n",
              "      <th>9</th>\n",
              "      <th>10</th>\n",
              "      <th>11</th>\n",
              "      <th>12</th>\n",
              "      <th>13</th>\n",
              "      <th>14</th>\n",
              "      <th>15</th>\n",
              "      <th>16</th>\n",
              "      <th>17</th>\n",
              "      <th>18</th>\n",
              "      <th>19</th>\n",
              "      <th>20</th>\n",
              "      <th>21</th>\n",
              "      <th>22</th>\n",
              "      <th>23</th>\n",
              "      <th>24</th>\n",
              "      <th>25</th>\n",
              "      <th>26</th>\n",
              "      <th>27</th>\n",
              "      <th>28</th>\n",
              "      <th>29</th>\n",
              "      <th>30</th>\n",
              "      <th>31</th>\n",
              "      <th>32</th>\n",
              "      <th>33</th>\n",
              "      <th>34</th>\n",
              "      <th>35</th>\n",
              "      <th>36</th>\n",
              "      <th>37</th>\n",
              "      <th>38</th>\n",
              "      <th>39</th>\n",
              "      <th>40</th>\n",
              "      <th>41</th>\n",
              "      <th>42</th>\n",
              "      <th>43</th>\n",
              "      <th>44</th>\n",
              "      <th>45</th>\n",
              "      <th>46</th>\n",
              "      <th>47</th>\n",
              "      <th>48</th>\n",
              "      <th>49</th>\n",
              "      <th>50</th>\n",
              "      <th>51</th>\n",
              "      <th>52</th>\n",
              "      <th>53</th>\n",
              "      <th>54</th>\n",
              "      <th>55</th>\n",
              "      <th>56</th>\n",
              "      <th>57</th>\n",
              "      <th>58</th>\n",
              "      <th>59</th>\n",
              "    </tr>\n",
              "  </thead>\n",
              "  <tbody>\n",
              "    <tr>\n",
              "      <th>0</th>\n",
              "      <td>35.570</td>\n",
              "      <td>35.492</td>\n",
              "      <td>35.469</td>\n",
              "      <td>35.422</td>\n",
              "      <td>35.414</td>\n",
              "      <td>35.320</td>\n",
              "      <td>35.227</td>\n",
              "      <td>35.242</td>\n",
              "      <td>35.160</td>\n",
              "      <td>35.176</td>\n",
              "      <td>35.172</td>\n",
              "      <td>35.168</td>\n",
              "      <td>35.156</td>\n",
              "      <td>35.187</td>\n",
              "      <td>35.176</td>\n",
              "      <td>35.250</td>\n",
              "      <td>35.234</td>\n",
              "      <td>35.316</td>\n",
              "      <td>35.316</td>\n",
              "      <td>35.402</td>\n",
              "      <td>35.402</td>\n",
              "      <td>35.398</td>\n",
              "      <td>35.441</td>\n",
              "      <td>35.414</td>\n",
              "      <td>35.434</td>\n",
              "      <td>35.480</td>\n",
              "      <td>35.500</td>\n",
              "      <td>35.488</td>\n",
              "      <td>35.559</td>\n",
              "      <td>35.555</td>\n",
              "      <td>35.574</td>\n",
              "      <td>35.652</td>\n",
              "      <td>35.668</td>\n",
              "      <td>35.664</td>\n",
              "      <td>35.660</td>\n",
              "      <td>35.734</td>\n",
              "      <td>35.824</td>\n",
              "      <td>35.824</td>\n",
              "      <td>35.820</td>\n",
              "      <td>35.836</td>\n",
              "      <td>35.836</td>\n",
              "      <td>35.828</td>\n",
              "      <td>35.840</td>\n",
              "      <td>35.859</td>\n",
              "      <td>35.918</td>\n",
              "      <td>35.914</td>\n",
              "      <td>35.895</td>\n",
              "      <td>35.992</td>\n",
              "      <td>35.980</td>\n",
              "      <td>35.980</td>\n",
              "      <td>36.008</td>\n",
              "      <td>35.984</td>\n",
              "      <td>35.996</td>\n",
              "      <td>36.039</td>\n",
              "      <td>36.008</td>\n",
              "      <td>36.008</td>\n",
              "      <td>36.094</td>\n",
              "      <td>36.102</td>\n",
              "      <td>36.090</td>\n",
              "      <td>36.152</td>\n",
              "    </tr>\n",
              "    <tr>\n",
              "      <th>1</th>\n",
              "      <td>36.156</td>\n",
              "      <td>36.094</td>\n",
              "      <td>35.992</td>\n",
              "      <td>36.008</td>\n",
              "      <td>35.992</td>\n",
              "      <td>35.902</td>\n",
              "      <td>35.824</td>\n",
              "      <td>35.820</td>\n",
              "      <td>35.727</td>\n",
              "      <td>35.727</td>\n",
              "      <td>35.648</td>\n",
              "      <td>35.734</td>\n",
              "      <td>35.828</td>\n",
              "      <td>35.848</td>\n",
              "      <td>35.902</td>\n",
              "      <td>36.035</td>\n",
              "      <td>36.078</td>\n",
              "      <td>36.199</td>\n",
              "      <td>36.246</td>\n",
              "      <td>36.301</td>\n",
              "      <td>36.398</td>\n",
              "      <td>36.473</td>\n",
              "      <td>36.500</td>\n",
              "      <td>36.555</td>\n",
              "      <td>36.652</td>\n",
              "      <td>36.645</td>\n",
              "      <td>36.664</td>\n",
              "      <td>36.652</td>\n",
              "      <td>36.738</td>\n",
              "      <td>36.715</td>\n",
              "      <td>36.797</td>\n",
              "      <td>36.797</td>\n",
              "      <td>36.891</td>\n",
              "      <td>36.902</td>\n",
              "      <td>36.898</td>\n",
              "      <td>36.984</td>\n",
              "      <td>36.984</td>\n",
              "      <td>37.062</td>\n",
              "      <td>37.051</td>\n",
              "      <td>37.145</td>\n",
              "      <td>37.141</td>\n",
              "      <td>37.172</td>\n",
              "      <td>37.164</td>\n",
              "      <td>37.164</td>\n",
              "      <td>37.152</td>\n",
              "      <td>37.238</td>\n",
              "      <td>37.234</td>\n",
              "      <td>37.305</td>\n",
              "      <td>37.305</td>\n",
              "      <td>37.324</td>\n",
              "      <td>37.328</td>\n",
              "      <td>37.324</td>\n",
              "      <td>37.340</td>\n",
              "      <td>37.332</td>\n",
              "      <td>37.316</td>\n",
              "      <td>37.410</td>\n",
              "      <td>37.418</td>\n",
              "      <td>37.422</td>\n",
              "      <td>37.488</td>\n",
              "      <td>37.477</td>\n",
              "    </tr>\n",
              "    <tr>\n",
              "      <th>2</th>\n",
              "      <td>37.488</td>\n",
              "      <td>37.391</td>\n",
              "      <td>37.340</td>\n",
              "      <td>37.312</td>\n",
              "      <td>37.223</td>\n",
              "      <td>37.145</td>\n",
              "      <td>37.059</td>\n",
              "      <td>36.973</td>\n",
              "      <td>36.898</td>\n",
              "      <td>36.879</td>\n",
              "      <td>36.887</td>\n",
              "      <td>36.887</td>\n",
              "      <td>36.980</td>\n",
              "      <td>37.059</td>\n",
              "      <td>37.137</td>\n",
              "      <td>37.230</td>\n",
              "      <td>37.316</td>\n",
              "      <td>37.398</td>\n",
              "      <td>37.477</td>\n",
              "      <td>37.582</td>\n",
              "      <td>37.578</td>\n",
              "      <td>37.723</td>\n",
              "      <td>37.730</td>\n",
              "      <td>37.730</td>\n",
              "      <td>37.797</td>\n",
              "      <td>37.898</td>\n",
              "      <td>37.980</td>\n",
              "      <td>37.977</td>\n",
              "      <td>37.984</td>\n",
              "      <td>38.016</td>\n",
              "      <td>38.031</td>\n",
              "      <td>38.047</td>\n",
              "      <td>38.117</td>\n",
              "      <td>38.125</td>\n",
              "      <td>38.195</td>\n",
              "      <td>38.219</td>\n",
              "      <td>38.207</td>\n",
              "      <td>38.289</td>\n",
              "      <td>38.301</td>\n",
              "      <td>38.281</td>\n",
              "      <td>38.367</td>\n",
              "      <td>38.379</td>\n",
              "      <td>38.379</td>\n",
              "      <td>38.379</td>\n",
              "      <td>38.379</td>\n",
              "      <td>38.375</td>\n",
              "      <td>38.367</td>\n",
              "      <td>38.391</td>\n",
              "      <td>38.391</td>\n",
              "      <td>38.469</td>\n",
              "      <td>38.457</td>\n",
              "      <td>38.461</td>\n",
              "      <td>38.457</td>\n",
              "      <td>38.469</td>\n",
              "      <td>38.469</td>\n",
              "      <td>38.555</td>\n",
              "      <td>38.527</td>\n",
              "      <td>38.543</td>\n",
              "      <td>38.527</td>\n",
              "      <td>38.621</td>\n",
              "    </tr>\n",
              "    <tr>\n",
              "      <th>3</th>\n",
              "      <td>38.633</td>\n",
              "      <td>38.535</td>\n",
              "      <td>38.469</td>\n",
              "      <td>38.379</td>\n",
              "      <td>38.297</td>\n",
              "      <td>38.223</td>\n",
              "      <td>38.125</td>\n",
              "      <td>38.062</td>\n",
              "      <td>37.977</td>\n",
              "      <td>37.969</td>\n",
              "      <td>37.887</td>\n",
              "      <td>37.902</td>\n",
              "      <td>37.965</td>\n",
              "      <td>38.047</td>\n",
              "      <td>38.180</td>\n",
              "      <td>38.203</td>\n",
              "      <td>38.367</td>\n",
              "      <td>38.406</td>\n",
              "      <td>38.457</td>\n",
              "      <td>38.629</td>\n",
              "      <td>38.633</td>\n",
              "      <td>38.699</td>\n",
              "      <td>38.801</td>\n",
              "      <td>38.801</td>\n",
              "      <td>38.828</td>\n",
              "      <td>38.902</td>\n",
              "      <td>38.895</td>\n",
              "      <td>38.969</td>\n",
              "      <td>38.988</td>\n",
              "      <td>39.055</td>\n",
              "      <td>39.055</td>\n",
              "      <td>39.055</td>\n",
              "      <td>39.055</td>\n",
              "      <td>39.121</td>\n",
              "      <td>39.215</td>\n",
              "      <td>39.215</td>\n",
              "      <td>39.219</td>\n",
              "      <td>39.227</td>\n",
              "      <td>39.273</td>\n",
              "      <td>39.285</td>\n",
              "      <td>39.293</td>\n",
              "      <td>39.293</td>\n",
              "      <td>39.273</td>\n",
              "      <td>39.285</td>\n",
              "      <td>39.375</td>\n",
              "      <td>39.359</td>\n",
              "      <td>39.375</td>\n",
              "      <td>39.379</td>\n",
              "      <td>39.367</td>\n",
              "      <td>39.363</td>\n",
              "      <td>39.441</td>\n",
              "      <td>39.363</td>\n",
              "      <td>39.367</td>\n",
              "      <td>39.457</td>\n",
              "      <td>39.461</td>\n",
              "      <td>39.461</td>\n",
              "      <td>39.473</td>\n",
              "      <td>39.441</td>\n",
              "      <td>39.453</td>\n",
              "      <td>39.461</td>\n",
              "    </tr>\n",
              "    <tr>\n",
              "      <th>4</th>\n",
              "      <td>39.461</td>\n",
              "      <td>39.461</td>\n",
              "      <td>39.375</td>\n",
              "      <td>39.281</td>\n",
              "      <td>39.203</td>\n",
              "      <td>39.113</td>\n",
              "      <td>39.043</td>\n",
              "      <td>38.969</td>\n",
              "      <td>38.875</td>\n",
              "      <td>38.883</td>\n",
              "      <td>38.809</td>\n",
              "      <td>38.789</td>\n",
              "      <td>38.883</td>\n",
              "      <td>38.965</td>\n",
              "      <td>39.047</td>\n",
              "      <td>39.121</td>\n",
              "      <td>39.234</td>\n",
              "      <td>39.281</td>\n",
              "      <td>39.453</td>\n",
              "      <td>39.461</td>\n",
              "      <td>39.488</td>\n",
              "      <td>39.633</td>\n",
              "      <td>39.723</td>\n",
              "      <td>39.719</td>\n",
              "      <td>39.711</td>\n",
              "      <td>39.801</td>\n",
              "      <td>39.879</td>\n",
              "      <td>39.867</td>\n",
              "      <td>39.883</td>\n",
              "      <td>39.973</td>\n",
              "      <td>39.973</td>\n",
              "      <td>39.961</td>\n",
              "      <td>40.047</td>\n",
              "      <td>40.133</td>\n",
              "      <td>40.047</td>\n",
              "      <td>40.133</td>\n",
              "      <td>40.145</td>\n",
              "      <td>40.230</td>\n",
              "      <td>40.219</td>\n",
              "      <td>40.219</td>\n",
              "      <td>40.305</td>\n",
              "      <td>40.297</td>\n",
              "      <td>40.285</td>\n",
              "      <td>40.309</td>\n",
              "      <td>40.281</td>\n",
              "      <td>40.309</td>\n",
              "      <td>40.391</td>\n",
              "      <td>40.348</td>\n",
              "      <td>40.320</td>\n",
              "      <td>40.336</td>\n",
              "      <td>40.324</td>\n",
              "      <td>40.320</td>\n",
              "      <td>40.312</td>\n",
              "      <td>40.340</td>\n",
              "      <td>40.320</td>\n",
              "      <td>40.387</td>\n",
              "      <td>40.391</td>\n",
              "      <td>40.391</td>\n",
              "      <td>40.387</td>\n",
              "      <td>40.391</td>\n",
              "    </tr>\n",
              "  </tbody>\n",
              "</table>\n",
              "</div>"
            ],
            "text/plain": [
              "       0       1       2       3   ...      56      57      58      59\n",
              "0  35.570  35.492  35.469  35.422  ...  36.094  36.102  36.090  36.152\n",
              "1  36.156  36.094  35.992  36.008  ...  37.418  37.422  37.488  37.477\n",
              "2  37.488  37.391  37.340  37.312  ...  38.527  38.543  38.527  38.621\n",
              "3  38.633  38.535  38.469  38.379  ...  39.473  39.441  39.453  39.461\n",
              "4  39.461  39.461  39.375  39.281  ...  40.391  40.391  40.387  40.391\n",
              "\n",
              "[5 rows x 60 columns]"
            ]
          },
          "metadata": {},
          "execution_count": 14
        }
      ]
    },
    {
      "cell_type": "code",
      "metadata": {
        "colab": {
          "base_uri": "https://localhost:8080/"
        },
        "id": "SAOI2RLGCGWQ",
        "outputId": "352bb8ed-fe72-44cb-caed-202f8a1c4c77"
      },
      "source": [
        "df = df.sort_index().values.reshape(-1,len(data),len(df.columns)).transpose(0,2,1)\n",
        "df.shape\n"
      ],
      "execution_count": 15,
      "outputs": [
        {
          "output_type": "execute_result",
          "data": {
            "text/plain": [
              "(2205, 60, 4)"
            ]
          },
          "metadata": {},
          "execution_count": 15
        }
      ]
    },
    {
      "cell_type": "code",
      "metadata": {
        "colab": {
          "base_uri": "https://localhost:8080/",
          "height": 350
        },
        "id": "5ODJRwbuCOoW",
        "outputId": "c4ece259-35df-4bd2-bdb5-adf1280084b5"
      },
      "source": [
        "plt.figure(figsize=(8,5))\n",
        "plt.plot(df[0])\n",
        "plt.title('Original Temperature Data')\n",
        "plt.ylabel('Temperature'); plt.xlabel('Time')\n",
        "np.set_printoptions(False)\n"
      ],
      "execution_count": 16,
      "outputs": [
        {
          "output_type": "display_data",
          "data": {
            "image/png": "[encoded data removed]",
            "text/plain": [
              "<Figure size 576x360 with 1 Axes>"
            ]
          },
          "metadata": {
            "needs_background": "light"
          }
        }
      ]
    },
    {
      "cell_type": "code",
      "metadata": {
        "colab": {
          "base_uri": "https://localhost:8080/"
        },
        "id": "arOtLj6uCRfN",
        "outputId": "0c4fc831-d759-4ace-8d99-3a51f5f15e9b"
      },
      "source": [
        "label = label.Cooler\n",
        "label.value_counts()"
      ],
      "execution_count": 17,
      "outputs": [
        {
          "output_type": "execute_result",
          "data": {
            "text/plain": [
              "100    741\n",
              "3      732\n",
              "20     732\n",
              "Name: Cooler, dtype: int64"
            ]
          },
          "metadata": {},
          "execution_count": 17
        }
      ]
    },
    {
      "cell_type": "code",
      "metadata": {
        "colab": {
          "base_uri": "https://localhost:8080/"
        },
        "id": "WMDwNSh5CUmb",
        "outputId": "89ebfea1-58b7-40a0-85ab-0b3b3d7d355c"
      },
      "source": [
        "### MAPPING LABEL ###\n",
        "\n",
        "diz_label, diz_reverse_label = {}, {}\n",
        "for i,lab in enumerate(label.unique()):\n",
        "    diz_label[lab] = i\n",
        "    diz_reverse_label[i] = lab\n",
        "\n",
        "print(diz_label)\n",
        "print(diz_reverse_label)\n",
        "label = label.map(diz_label)\n",
        "y = to_categorical(label)"
      ],
      "execution_count": 18,
      "outputs": [
        {
          "output_type": "stream",
          "name": "stdout",
          "text": [
            "{3: 0, 20: 1, 100: 2}\n",
            "{0: 3, 1: 20, 2: 100}\n"
          ]
        }
      ]
    },
    {
      "cell_type": "code",
      "metadata": {
        "id": "gUZs_WxrCX6l"
      },
      "source": [
        "X_train, X_test, y_train, y_test = train_test_split(df, y, random_state = 42, test_size=0.2)"
      ],
      "execution_count": 19,
      "outputs": []
    },
    {
      "cell_type": "code",
      "metadata": {
        "id": "aBkGKOAtCa4L"
      },
      "source": [
        "### SCALE DATA ###\n",
        "\n",
        "scaler = StandardScaler()\n",
        "\n",
        "X_train = scaler.fit_transform(X_train.reshape(-1, X_train.shape[-1])).reshape(X_train.shape)\n",
        "X_test = scaler.transform(X_test.reshape(-1, X_test.shape[-1])).reshape(X_test.shape)"
      ],
      "execution_count": 20,
      "outputs": []
    },
    {
      "cell_type": "code",
      "metadata": {
        "colab": {
          "base_uri": "https://localhost:8080/"
        },
        "id": "1g3V_AdsCgaP",
        "outputId": "66398c6e-e75a-425f-b0c3-3cc3b3fc91f3"
      },
      "source": [
        "num_sensors = 4\n",
        "TIME_PERIODS = 60\n",
        "BATCH_SIZE = 16\n",
        "EPOCHS = 10\n",
        "\n",
        "model_m = Sequential()\n",
        "model_m.add(Conv1D(100, 6, activation='relu', input_shape=(TIME_PERIODS, num_sensors)))\n",
        "model_m.add(Conv1D(100, 6, activation='relu'))\n",
        "model_m.add(MaxPooling1D(3))\n",
        "model_m.add(Conv1D(160, 6, activation='relu'))\n",
        "model_m.add(Conv1D(160, 6, activation='relu'))\n",
        "model_m.add(GlobalAveragePooling1D(name='G_A_P_1D'))\n",
        "model_m.add(Dropout(0.5))\n",
        "model_m.add(Dense(3, activation='softmax'))\n",
        "\n",
        "model_m.compile(loss='categorical_crossentropy', optimizer='adam', metrics=['accuracy'])\n",
        "history = model_m.fit(X_train, y_train, batch_size=BATCH_SIZE, epochs=EPOCHS, validation_split=0.2, verbose=2)"
      ],
      "execution_count": 21,
      "outputs": [
        {
          "output_type": "stream",
          "name": "stdout",
          "text": [
            "Epoch 1/10\n",
            "89/89 - 3s - loss: 0.2232 - accuracy: 0.9376 - val_loss: 0.0693 - val_accuracy: 0.9802\n",
            "Epoch 2/10\n",
            "89/89 - 2s - loss: 0.1077 - accuracy: 0.9752 - val_loss: 0.0541 - val_accuracy: 0.9858\n",
            "Epoch 3/10\n",
            "89/89 - 2s - loss: 0.1007 - accuracy: 0.9745 - val_loss: 0.0825 - val_accuracy: 0.9830\n",
            "Epoch 4/10\n",
            "89/89 - 2s - loss: 0.1124 - accuracy: 0.9766 - val_loss: 0.0782 - val_accuracy: 0.9773\n",
            "Epoch 5/10\n",
            "89/89 - 2s - loss: 0.0967 - accuracy: 0.9766 - val_loss: 0.0805 - val_accuracy: 0.9802\n",
            "Epoch 6/10\n",
            "89/89 - 2s - loss: 0.1190 - accuracy: 0.9717 - val_loss: 0.0935 - val_accuracy: 0.9773\n",
            "Epoch 7/10\n",
            "89/89 - 2s - loss: 0.1307 - accuracy: 0.9695 - val_loss: 0.0686 - val_accuracy: 0.9802\n",
            "Epoch 8/10\n",
            "89/89 - 2s - loss: 0.1106 - accuracy: 0.9731 - val_loss: 0.0944 - val_accuracy: 0.9858\n",
            "Epoch 9/10\n",
            "89/89 - 2s - loss: 0.0887 - accuracy: 0.9766 - val_loss: 0.0866 - val_accuracy: 0.9887\n",
            "Epoch 10/10\n",
            "89/89 - 2s - loss: 0.1124 - accuracy: 0.9731 - val_loss: 0.0614 - val_accuracy: 0.9830\n"
          ]
        }
      ]
    },
    {
      "cell_type": "code",
      "metadata": {
        "colab": {
          "base_uri": "https://localhost:8080/"
        },
        "id": "87ZJP6cKCl38",
        "outputId": "cdfe381e-9254-426b-fa93-4603d0a12686"
      },
      "source": [
        "model_m.evaluate(X_test, y_test, verbose=2)"
      ],
      "execution_count": 22,
      "outputs": [
        {
          "output_type": "stream",
          "name": "stdout",
          "text": [
            "14/14 - 0s - loss: 0.0868 - accuracy: 0.9864\n"
          ]
        },
        {
          "output_type": "execute_result",
          "data": {
            "text/plain": [
              "[0.08677873760461807, 0.9863945841789246]"
            ]
          },
          "metadata": {},
          "execution_count": 22
        }
      ]
    },
    {
      "cell_type": "code",
      "metadata": {
        "id": "T8gtlLkICyZR"
      },
      "source": [
        "pred_test = np.argmax(model_m.predict(X_test), axis=1)"
      ],
      "execution_count": 23,
      "outputs": []
    },
    {
      "cell_type": "code",
      "metadata": {
        "colab": {
          "base_uri": "https://localhost:8080/"
        },
        "id": "JTO6cSzYC07c",
        "outputId": "8a64d15c-12f5-419a-a07c-6df372c907fe"
      },
      "source": [
        "print(classification_report([diz_reverse_label[np.argmax(label)] for label in y_test], \n",
        "                            [diz_reverse_label[label] for label in pred_test]))"
      ],
      "execution_count": 24,
      "outputs": [
        {
          "output_type": "stream",
          "name": "stdout",
          "text": [
            "              precision    recall  f1-score   support\n",
            "\n",
            "           3       0.99      0.99      0.99       152\n",
            "          20       0.96      0.99      0.98       135\n",
            "         100       1.00      0.98      0.99       154\n",
            "\n",
            "    accuracy                           0.99       441\n",
            "   macro avg       0.99      0.99      0.99       441\n",
            "weighted avg       0.99      0.99      0.99       441\n",
            "\n"
          ]
        }
      ]
    },
    {
      "cell_type": "code",
      "metadata": {
        "colab": {
          "base_uri": "https://localhost:8080/",
          "height": 495
        },
        "id": "nqPEPkiuC3ms",
        "outputId": "1c1e659d-441d-410a-bdb8-3b374a6ac2f2"
      },
      "source": [
        "cnf_matrix = confusion_matrix([diz_reverse_label[np.argmax(label)] for label in y_test], \n",
        "                              [diz_reverse_label[label] for label in pred_test])\n",
        "\n",
        "plt.figure(figsize=(7,7))\n",
        "plot_confusion_matrix(cnf_matrix, classes=list(diz_reverse_label.values()))\n",
        "plt.show()\n"
      ],
      "execution_count": 25,
      "outputs": [
        {
          "output_type": "display_data",
          "data": {
            "image/png": "[encoded data removed]",
            "text/plain": [
              "<Figure size 504x504 with 1 Axes>"
            ]
          },
          "metadata": {
            "needs_background": "light"
          }
        }
      ]
    },
    {
      "cell_type": "code",
      "metadata": {
        "colab": {
          "base_uri": "https://localhost:8080/"
        },
        "id": "13Ot0zRXC5mv",
        "outputId": "c60c56b1-ebf3-4a43-c330-fc734183c036"
      },
      "source": [
        "### MAKE A MODEL FOR EMBEDDINGS ###\n",
        "emb_model = Model(inputs=model_m.input, outputs=model_m.get_layer('G_A_P_1D').output)\n",
        "emb_model.summary()"
      ],
      "execution_count": 26,
      "outputs": [
        {
          "output_type": "stream",
          "name": "stdout",
          "text": [
            "Model: \"model\"\n",
            "_________________________________________________________________\n",
            "Layer (type)                 Output Shape              Param #   \n",
            "=================================================================\n",
            "conv1d_input (InputLayer)    [(None, 60, 4)]           0         \n",
            "_________________________________________________________________\n",
            "conv1d (Conv1D)              (None, 55, 100)           2500      \n",
            "_________________________________________________________________\n",
            "conv1d_1 (Conv1D)            (None, 50, 100)           60100     \n",
            "_________________________________________________________________\n",
            "max_pooling1d (MaxPooling1D) (None, 16, 100)           0         \n",
            "_________________________________________________________________\n",
            "conv1d_2 (Conv1D)            (None, 11, 160)           96160     \n",
            "_________________________________________________________________\n",
            "conv1d_3 (Conv1D)            (None, 6, 160)            153760    \n",
            "_________________________________________________________________\n",
            "G_A_P_1D (GlobalAveragePooli (None, 160)               0         \n",
            "=================================================================\n",
            "Total params: 312,520\n",
            "Trainable params: 312,520\n",
            "Non-trainable params: 0\n",
            "_________________________________________________________________\n"
          ]
        }
      ]
    },
    {
      "cell_type": "code",
      "metadata": {
        "id": "g_z6kfx4C79t"
      },
      "source": [
        "serie_features = emb_model.predict(X_test)"
      ],
      "execution_count": 27,
      "outputs": []
    },
    {
      "cell_type": "code",
      "metadata": {
        "id": "6KZ2FsbAC_Fj"
      },
      "source": [
        "### VISUALIZE EMBEDDINGS ###\n",
        "tsne = TSNE(n_components=2, random_state=42, n_iter=300, perplexity=5)\n",
        "T = tsne.fit_transform(serie_features)"
      ],
      "execution_count": 28,
      "outputs": []
    },
    {
      "cell_type": "code",
      "metadata": {
        "colab": {
          "base_uri": "https://localhost:8080/",
          "height": 537
        },
        "id": "VMlG_R4UDBhh",
        "outputId": "4ca8b73b-3d0b-4d0f-e734-b747cfb95543"
      },
      "source": [
        "plt.figure(figsize=(16,9))\n",
        "colors = {0:'red', 1:'blue', 2:'yellow'}\n",
        "plt.scatter(T.T[0], T.T[1], c=[colors[i] for i in np.argmax(y_test, axis=1)]) \n",
        "plt.show()"
      ],
      "execution_count": 29,
      "outputs": [
        {
          "output_type": "display_data",
          "data": {
            "image/png": "[encoded data removed]",
            "text/plain": [
              "<Figure size 1152x648 with 1 Axes>"
            ]
          },
          "metadata": {
            "needs_background": "light"
          }
        }
      ]
    },
    {
      "cell_type": "code",
      "metadata": {
        "id": "8610iFa1DDP4"
      },
      "source": [
        ""
      ],
      "execution_count": null,
      "outputs": []
    }
  ]
}